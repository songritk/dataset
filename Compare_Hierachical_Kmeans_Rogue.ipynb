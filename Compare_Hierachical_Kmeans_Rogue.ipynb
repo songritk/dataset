{
  "nbformat": 4,
  "nbformat_minor": 0,
  "metadata": {
    "colab": {
      "name": "Compare-Hierachical-Kmeans-Rogue.ipynb",
      "provenance": [],
      "collapsed_sections": [],
      "toc_visible": true,
      "mount_file_id": "1OnpXBd9a5ZtVluXSGq-MlkzqzMghX3MZ",
      "authorship_tag": "ABX9TyO/dwQOtGroaCQMhdiIR8bg",
      "include_colab_link": true
    },
    "kernelspec": {
      "name": "python3",
      "display_name": "Python 3"
    }
  },
  "cells": [
    {
      "cell_type": "markdown",
      "metadata": {
        "id": "view-in-github",
        "colab_type": "text"
      },
      "source": [
        "<a href=\"https://colab.research.google.com/github/songritk/dataset/blob/master/Compare_Hierachical_Kmeans_Rogue.ipynb\" target=\"_parent\"><img src=\"https://colab.research.google.com/assets/colab-badge.svg\" alt=\"Open In Colab\"/></a>"
      ]
    },
    {
      "cell_type": "markdown",
      "metadata": {
        "id": "ulFuYpsnY1Pc",
        "colab_type": "text"
      },
      "source": [
        "# Preparing data"
      ]
    },
    {
      "cell_type": "markdown",
      "metadata": {
        "id": "5b5Qi4HZbPBl",
        "colab_type": "text"
      },
      "source": [
        "## Download dataset\n",
        "### No Rogue"
      ]
    },
    {
      "cell_type": "code",
      "metadata": {
        "id": "wr8UCP-WHylC",
        "colab_type": "code",
        "outputId": "b141079d-4a5c-4b7e-d5a1-336c19184588",
        "colab": {
          "base_uri": "https://localhost:8080/",
          "height": 272
        }
      },
      "source": [
        "! git clone https://github.com/songritk/dataset.git\n",
        "! cd dataset; git pull"
      ],
      "execution_count": 19,
      "outputs": [
        {
          "output_type": "stream",
          "text": [
            "fatal: destination path 'dataset' already exists and is not an empty directory.\n",
            "remote: Enumerating objects: 6, done.\u001b[K\n",
            "remote: Counting objects: 100% (6/6), done.\u001b[K\n",
            "remote: Compressing objects: 100% (5/5), done.\u001b[K\n",
            "remote: Total 5 (delta 2), reused 0 (delta 0), pack-reused 0\u001b[K\n",
            "Unpacking objects: 100% (5/5), done.\n",
            "From https://github.com/songritk/dataset\n",
            "   0043ff3..6b1c27b  master     -> origin/master\n",
            "Updating 0043ff3..6b1c27b\n",
            "Fast-forward\n",
            " p10.txt | 60 \u001b[31m------------------------------------------------------------\u001b[m\n",
            " p4.txt  | 60 \u001b[32m++++++++++++++++++++++++++++++++++++++++++++++++++++++++++++\u001b[m\n",
            " 2 files changed, 60 insertions(+), 60 deletions(-)\n",
            " delete mode 100644 p10.txt\n",
            " create mode 100644 p4.txt\n"
          ],
          "name": "stdout"
        }
      ]
    },
    {
      "cell_type": "code",
      "metadata": {
        "id": "4ShEaCeObJae",
        "colab_type": "code",
        "colab": {}
      },
      "source": [
        "import plotly.figure_factory as ff\n",
        "import numpy as np\n",
        "import pandas as pd\n",
        "import numpy as np\n",
        "np.random.seed(1)\n",
        "\n",
        "df=pd.read_csv(\"dataset/p4.txt\", header=None, delimiter=r\"\\s+\")\n",
        "N=df[[4,5]] \n",
        "RATE=(N[4]+N[5])/2\n",
        "X=pd.concat([RATE,df[3]], axis=1)\n",
        "X.set_axis([0, 1], axis=1, inplace=False)\n",
        "X.columns = [0,1]"
      ],
      "execution_count": 0,
      "outputs": []
    },
    {
      "cell_type": "markdown",
      "metadata": {
        "id": "cPcL9Q_wYyEz",
        "colab_type": "text"
      },
      "source": [
        "# Scatter Plot"
      ]
    },
    {
      "cell_type": "code",
      "metadata": {
        "id": "Bdy5RRTfIbxq",
        "colab_type": "code",
        "outputId": "f963f5b8-74ac-40bc-e190-321294a9df56",
        "colab": {
          "base_uri": "https://localhost:8080/",
          "height": 283
        }
      },
      "source": [
        "import matplotlib.pyplot as plt\n",
        "plt.clf()\n",
        "plt.scatter(X[0], X[1])\n",
        "count=0\n",
        "for x,y in zip(X[0],X[1]):\n",
        "  #label = \"{:.2f}\".format(y)\n",
        "\n",
        "  label =  count\n",
        "  count=count+1\n",
        "  plt.annotate(label, # this is the text\n",
        "                 (x,y), # this is the point to label\n",
        "                 textcoords=\"offset points\", # how to position the text\n",
        "                 xytext=(0,10), # distance from text to points (x,y)\n",
        "                 ha='center') # horizontal alignment can be left, right or center\n",
        "plt.xlabel(\"Data Rate(Mbps)\")\n",
        "plt.ylabel(\"RTT(ms)\")\n",
        "plt.ylim(0, 250)\n",
        "plt.xlim(0, 250)\n",
        "#plt.xticks(np.arange(0,1,0.1))\n",
        "#plt.yticks(np.arange(0,1,0.1))\n",
        "plt.show()"
      ],
      "execution_count": 22,
      "outputs": [
        {
          "output_type": "display_data",
          "data": {
            "image/png": "[encoded data removed]",
            "text/plain": [
              "<Figure size 432x288 with 1 Axes>"
            ]
          },
          "metadata": {
            "tags": [],
            "needs_background": "light"
          }
        }
      ]
    },
    {
      "cell_type": "markdown",
      "metadata": {
        "id": "EP3-PghbY9kw",
        "colab_type": "text"
      },
      "source": [
        "# Hierarchical Clustering by dendrogram"
      ]
    },
    {
      "cell_type": "code",
      "metadata": {
        "id": "QVV1VsLCSwf7",
        "colab_type": "code",
        "outputId": "4fa0a4de-1201-4ed9-9d5b-80d5c16df8f7",
        "colab": {
          "base_uri": "https://localhost:8080/",
          "height": 517
        }
      },
      "source": [
        "fig = ff.create_dendrogram(X)\n",
        "fig.update_layout(width=800, height=500)\n",
        "fig.show()"
      ],
      "execution_count": 23,
      "outputs": [
        {
          "output_type": "display_data",
          "data": {
            "text/html": [
              "<html>\n",
              "<head><meta charset=\"utf-8\" /></head>\n",
              "<body>\n",
              "    <div>\n",
              "            <script src=\"https://cdnjs.cloudflare.com/ajax/libs/mathjax/2.7.5/MathJax.js?config=TeX-AMS-MML_SVG\"></script><script type=\"text/javascript\">if (window.MathJax) {MathJax.Hub.Config({SVG: {font: \"STIX-Web\"}});}</script>\n",
              "                <script type=\"text/javascript\">window.PlotlyConfig = {MathJaxConfig: 'local'};</script>\n",
              "        <script src=\"https://cdn.plot.ly/plotly-latest.min.js\"></script>    \n",
              "            <div id=\"b884c6d5-8c52-4082-92ab-62b2f03e61c9\" class=\"plotly-graph-div\" style=\"height:500px; width:800px;\"></div>\n",
              "            <script type=\"text/javascript\">\n",
              "                \n",
              "                    window.PLOTLYENV=window.PLOTLYENV || {};\n",
              "                    \n",
              "                if (document.getElementById(\"b884c6d5-8c52-4082-92ab-62b2f03e61c9\")) {\n",
              "                    Plotly.newPlot(\n",
              "                        'b884c6d5-8c52-4082-92ab-62b2f03e61c9',\n",
              "                        [{\"hoverinfo\": \"text\", \"marker\": {\"color\": \"rgb(61,153,112)\"}, \"mode\": \"lines\", \"type\": \"scatter\", \"x\": [25.0, 25.0, 35.0, 35.0], \"xaxis\": \"x\", \"y\": [0.0, 1.2270000000000003, 1.2270000000000003, 0.0], \"yaxis\": \"y\"}, {\"hoverinfo\": \"text\", \"marker\": {\"color\": \"rgb(61,153,112)\"}, \"mode\": \"lines\", \"type\": \"scatter\", \"x\": [15.0, 15.0, 30.0, 30.0], \"xaxis\": \"x\", \"y\": [0.0, 5.177, 5.177, 1.2270000000000003], \"yaxis\": \"y\"}, {\"hoverinfo\": \"text\", \"marker\": {\"color\": \"rgb(61,153,112)\"}, \"mode\": \"lines\", \"type\": \"scatter\", \"x\": [5.0, 5.0, 22.5, 22.5], \"xaxis\": \"x\", \"y\": [0.0, 12.774000000000004, 12.774000000000004, 5.177], \"yaxis\": \"y\"}, {\"hoverinfo\": \"text\", \"marker\": {\"color\": \"rgb(61,153,112)\"}, \"mode\": \"lines\", \"type\": \"scatter\", \"x\": [55.0, 55.0, 65.0, 65.0], \"xaxis\": \"x\", \"y\": [0.0, 1.5110000000000028, 1.5110000000000028, 0.0], \"yaxis\": \"y\"}, {\"hoverinfo\": \"text\", \"marker\": {\"color\": \"rgb(61,153,112)\"}, \"mode\": \"lines\", \"type\": \"scatter\", \"x\": [45.0, 45.0, 60.0, 60.0], \"xaxis\": \"x\", \"y\": [0.0, 14.673000000000002, 14.673000000000002, 1.5110000000000028], \"yaxis\": \"y\"}, {\"hoverinfo\": \"text\", \"marker\": {\"color\": \"rgb(61,153,112)\"}, \"mode\": \"lines\", \"type\": \"scatter\", \"x\": [13.75, 13.75, 52.5, 52.5], \"xaxis\": \"x\", \"y\": [12.774000000000004, 28.21085679308588, 28.21085679308588, 14.673000000000002], \"yaxis\": \"y\"}, {\"hoverinfo\": \"text\", \"marker\": {\"color\": \"rgb(61,153,112)\"}, \"mode\": \"lines\", \"type\": \"scatter\", \"x\": [85.0, 85.0, 95.0, 95.0], \"xaxis\": \"x\", \"y\": [0.0, 0.0019999999999988916, 0.0019999999999988916, 0.0], \"yaxis\": \"y\"}, {\"hoverinfo\": \"text\", \"marker\": {\"color\": \"rgb(61,153,112)\"}, \"mode\": \"lines\", \"type\": \"scatter\", \"x\": [75.0, 75.0, 90.0, 90.0], \"xaxis\": \"x\", \"y\": [0.0, 6.5390000000000015, 6.5390000000000015, 0.0019999999999988916], \"yaxis\": \"y\"}, {\"hoverinfo\": \"text\", \"marker\": {\"color\": \"rgb(61,153,112)\"}, \"mode\": \"lines\", \"type\": \"scatter\", \"x\": [115.0, 115.0, 125.0, 125.0], \"xaxis\": \"x\", \"y\": [0.0, 6.77335544615813, 6.77335544615813, 0.0], \"yaxis\": \"y\"}, {\"hoverinfo\": \"text\", \"marker\": {\"color\": \"rgb(61,153,112)\"}, \"mode\": \"lines\", \"type\": \"scatter\", \"x\": [105.0, 105.0, 120.0, 120.0], \"xaxis\": \"x\", \"y\": [0.0, 9.663318529366608, 9.663318529366608, 6.77335544615813], \"yaxis\": \"y\"}, {\"hoverinfo\": \"text\", \"marker\": {\"color\": \"rgb(61,153,112)\"}, \"mode\": \"lines\", \"type\": \"scatter\", \"x\": [82.5, 82.5, 112.5, 112.5], \"xaxis\": \"x\", \"y\": [6.5390000000000015, 20.56234665596318, 20.56234665596318, 9.663318529366608], \"yaxis\": \"y\"}, {\"hoverinfo\": \"text\", \"marker\": {\"color\": \"rgb(61,153,112)\"}, \"mode\": \"lines\", \"type\": \"scatter\", \"x\": [135.0, 135.0, 145.0, 145.0], \"xaxis\": \"x\", \"y\": [0.0, 5.924805144475219, 5.924805144475219, 0.0], \"yaxis\": \"y\"}, {\"hoverinfo\": \"text\", \"marker\": {\"color\": \"rgb(61,153,112)\"}, \"mode\": \"lines\", \"type\": \"scatter\", \"x\": [155.0, 155.0, 165.0, 165.0], \"xaxis\": \"x\", \"y\": [0.0, 1.834999999999999, 1.834999999999999, 0.0], \"yaxis\": \"y\"}, {\"hoverinfo\": \"text\", \"marker\": {\"color\": \"rgb(61,153,112)\"}, \"mode\": \"lines\", \"type\": \"scatter\", \"x\": [185.0, 185.0, 195.0, 195.0], \"xaxis\": \"x\", \"y\": [0.0, 1.0, 1.0, 0.0], \"yaxis\": \"y\"}, {\"hoverinfo\": \"text\", \"marker\": {\"color\": \"rgb(61,153,112)\"}, \"mode\": \"lines\", \"type\": \"scatter\", \"x\": [175.0, 175.0, 190.0, 190.0], \"xaxis\": \"x\", \"y\": [0.0, 4.694988924374583, 4.694988924374583, 1.0], \"yaxis\": \"y\"}, {\"hoverinfo\": \"text\", \"marker\": {\"color\": \"rgb(61,153,112)\"}, \"mode\": \"lines\", \"type\": \"scatter\", \"x\": [160.0, 160.0, 182.5, 182.5], \"xaxis\": \"x\", \"y\": [1.834999999999999, 13.749795671209082, 13.749795671209082, 4.694988924374583], \"yaxis\": \"y\"}, {\"hoverinfo\": \"text\", \"marker\": {\"color\": \"rgb(61,153,112)\"}, \"mode\": \"lines\", \"type\": \"scatter\", \"x\": [140.0, 140.0, 171.25, 171.25], \"xaxis\": \"x\", \"y\": [5.924805144475219, 27.707414910092208, 27.707414910092208, 13.749795671209082], \"yaxis\": \"y\"}, {\"hoverinfo\": \"text\", \"marker\": {\"color\": \"rgb(61,153,112)\"}, \"mode\": \"lines\", \"type\": \"scatter\", \"x\": [97.5, 97.5, 155.625, 155.625], \"xaxis\": \"x\", \"y\": [20.56234665596318, 41.0808891821976, 41.0808891821976, 27.707414910092208], \"yaxis\": \"y\"}, {\"hoverinfo\": \"text\", \"marker\": {\"color\": \"rgb(61,153,112)\"}, \"mode\": \"lines\", \"type\": \"scatter\", \"x\": [33.125, 33.125, 126.5625, 126.5625], \"xaxis\": \"x\", \"y\": [28.21085679308588, 45.781019167336154, 45.781019167336154, 41.0808891821976], \"yaxis\": \"y\"}, {\"hoverinfo\": \"text\", \"marker\": {\"color\": \"rgb(255,65,54)\"}, \"mode\": \"lines\", \"type\": \"scatter\", \"x\": [215.0, 215.0, 225.0, 225.0], \"xaxis\": \"x\", \"y\": [0.0, 19.841289499425177, 19.841289499425177, 0.0], \"yaxis\": \"y\"}, {\"hoverinfo\": \"text\", \"marker\": {\"color\": \"rgb(255,65,54)\"}, \"mode\": \"lines\", \"type\": \"scatter\", \"x\": [205.0, 205.0, 220.0, 220.0], \"xaxis\": \"x\", \"y\": [0.0, 40.088, 40.088, 19.841289499425177], \"yaxis\": \"y\"}, {\"hoverinfo\": \"text\", \"marker\": {\"color\": \"rgb(255,65,54)\"}, \"mode\": \"lines\", \"type\": \"scatter\", \"x\": [235.0, 235.0, 245.0, 245.0], \"xaxis\": \"x\", \"y\": [0.0, 1.998000000000001, 1.998000000000001, 0.0], \"yaxis\": \"y\"}, {\"hoverinfo\": \"text\", \"marker\": {\"color\": \"rgb(255,65,54)\"}, \"mode\": \"lines\", \"type\": \"scatter\", \"x\": [265.0, 265.0, 275.0, 275.0], \"xaxis\": \"x\", \"y\": [0.0, 3.5099999999999945, 3.5099999999999945, 0.0], \"yaxis\": \"y\"}, {\"hoverinfo\": \"text\", \"marker\": {\"color\": \"rgb(255,65,54)\"}, \"mode\": \"lines\", \"type\": \"scatter\", \"x\": [255.0, 255.0, 270.0, 270.0], \"xaxis\": \"x\", \"y\": [0.0, 9.003999999999998, 9.003999999999998, 3.5099999999999945], \"yaxis\": \"y\"}, {\"hoverinfo\": \"text\", \"marker\": {\"color\": \"rgb(255,65,54)\"}, \"mode\": \"lines\", \"type\": \"scatter\", \"x\": [240.0, 240.0, 262.5, 262.5], \"xaxis\": \"x\", \"y\": [1.998000000000001, 13.15040698989959, 13.15040698989959, 9.003999999999998], \"yaxis\": \"y\"}, {\"hoverinfo\": \"text\", \"marker\": {\"color\": \"rgb(255,65,54)\"}, \"mode\": \"lines\", \"type\": \"scatter\", \"x\": [295.0, 295.0, 305.0, 305.0], \"xaxis\": \"x\", \"y\": [0.0, 0.5530000000000044, 0.5530000000000044, 0.0], \"yaxis\": \"y\"}, {\"hoverinfo\": \"text\", \"marker\": {\"color\": \"rgb(255,65,54)\"}, \"mode\": \"lines\", \"type\": \"scatter\", \"x\": [325.0, 325.0, 335.0, 335.0], \"xaxis\": \"x\", \"y\": [0.0, 1.0760000000000005, 1.0760000000000005, 0.0], \"yaxis\": \"y\"}, {\"hoverinfo\": \"text\", \"marker\": {\"color\": \"rgb(255,65,54)\"}, \"mode\": \"lines\", \"type\": \"scatter\", \"x\": [315.0, 315.0, 330.0, 330.0], \"xaxis\": \"x\", \"y\": [0.0, 2.344999999999999, 2.344999999999999, 1.0760000000000005], \"yaxis\": \"y\"}, {\"hoverinfo\": \"text\", \"marker\": {\"color\": \"rgb(255,65,54)\"}, \"mode\": \"lines\", \"type\": \"scatter\", \"x\": [300.0, 300.0, 322.5, 322.5], \"xaxis\": \"x\", \"y\": [0.5530000000000044, 7.368000000000002, 7.368000000000002, 2.344999999999999], \"yaxis\": \"y\"}, {\"hoverinfo\": \"text\", \"marker\": {\"color\": \"rgb(255,65,54)\"}, \"mode\": \"lines\", \"type\": \"scatter\", \"x\": [285.0, 285.0, 311.25, 311.25], \"xaxis\": \"x\", \"y\": [0.0, 11.120621610323767, 11.120621610323767, 7.368000000000002], \"yaxis\": \"y\"}, {\"hoverinfo\": \"text\", \"marker\": {\"color\": \"rgb(255,65,54)\"}, \"mode\": \"lines\", \"type\": \"scatter\", \"x\": [345.0, 345.0, 355.0, 355.0], \"xaxis\": \"x\", \"y\": [0.0, 2.1400000000000006, 2.1400000000000006, 0.0], \"yaxis\": \"y\"}, {\"hoverinfo\": \"text\", \"marker\": {\"color\": \"rgb(255,65,54)\"}, \"mode\": \"lines\", \"type\": \"scatter\", \"x\": [365.0, 365.0, 375.0, 375.0], \"xaxis\": \"x\", \"y\": [0.0, 0.924000000000003, 0.924000000000003, 0.0], \"yaxis\": \"y\"}, {\"hoverinfo\": \"text\", \"marker\": {\"color\": \"rgb(255,65,54)\"}, \"mode\": \"lines\", \"type\": \"scatter\", \"x\": [395.0, 395.0, 405.0, 405.0], \"xaxis\": \"x\", \"y\": [0.0, 0.04499999999999815, 0.04499999999999815, 0.0], \"yaxis\": \"y\"}, {\"hoverinfo\": \"text\", \"marker\": {\"color\": \"rgb(255,65,54)\"}, \"mode\": \"lines\", \"type\": \"scatter\", \"x\": [385.0, 385.0, 400.0, 400.0], \"xaxis\": \"x\", \"y\": [0.0, 1.365999999999996, 1.365999999999996, 0.04499999999999815], \"yaxis\": \"y\"}, {\"hoverinfo\": \"text\", \"marker\": {\"color\": \"rgb(255,65,54)\"}, \"mode\": \"lines\", \"type\": \"scatter\", \"x\": [370.0, 370.0, 392.5, 392.5], \"xaxis\": \"x\", \"y\": [0.924000000000003, 3.201999999999998, 3.201999999999998, 1.365999999999996], \"yaxis\": \"y\"}, {\"hoverinfo\": \"text\", \"marker\": {\"color\": \"rgb(255,65,54)\"}, \"mode\": \"lines\", \"type\": \"scatter\", \"x\": [350.0, 350.0, 381.25, 381.25], \"xaxis\": \"x\", \"y\": [2.1400000000000006, 6.991999999999997, 6.991999999999997, 3.201999999999998], \"yaxis\": \"y\"}, {\"hoverinfo\": \"text\", \"marker\": {\"color\": \"rgb(255,65,54)\"}, \"mode\": \"lines\", \"type\": \"scatter\", \"x\": [435.0, 435.0, 445.0, 445.0], \"xaxis\": \"x\", \"y\": [0.0, 1.189, 1.189, 0.0], \"yaxis\": \"y\"}, {\"hoverinfo\": \"text\", \"marker\": {\"color\": \"rgb(255,65,54)\"}, \"mode\": \"lines\", \"type\": \"scatter\", \"x\": [425.0, 425.0, 440.0, 440.0], \"xaxis\": \"x\", \"y\": [0.0, 3.501999999999999, 3.501999999999999, 1.189], \"yaxis\": \"y\"}, {\"hoverinfo\": \"text\", \"marker\": {\"color\": \"rgb(255,65,54)\"}, \"mode\": \"lines\", \"type\": \"scatter\", \"x\": [415.0, 415.0, 432.5, 432.5], \"xaxis\": \"x\", \"y\": [0.0, 8.940000000000001, 8.940000000000001, 3.501999999999999], \"yaxis\": \"y\"}, {\"hoverinfo\": \"text\", \"marker\": {\"color\": \"rgb(255,65,54)\"}, \"mode\": \"lines\", \"type\": \"scatter\", \"x\": [365.625, 365.625, 423.75, 423.75], \"xaxis\": \"x\", \"y\": [6.991999999999997, 14.2863994414268, 14.2863994414268, 8.940000000000001], \"yaxis\": \"y\"}, {\"hoverinfo\": \"text\", \"marker\": {\"color\": \"rgb(255,65,54)\"}, \"mode\": \"lines\", \"type\": \"scatter\", \"x\": [465.0, 465.0, 475.0, 475.0], \"xaxis\": \"x\", \"y\": [0.0, 0.652000000000001, 0.652000000000001, 0.0], \"yaxis\": \"y\"}, {\"hoverinfo\": \"text\", \"marker\": {\"color\": \"rgb(255,65,54)\"}, \"mode\": \"lines\", \"type\": \"scatter\", \"x\": [495.0, 495.0, 505.0, 505.0], \"xaxis\": \"x\", \"y\": [0.0, 0.3550000000000004, 0.3550000000000004, 0.0], \"yaxis\": \"y\"}, {\"hoverinfo\": \"text\", \"marker\": {\"color\": \"rgb(255,65,54)\"}, \"mode\": \"lines\", \"type\": \"scatter\", \"x\": [485.0, 485.0, 500.0, 500.0], \"xaxis\": \"x\", \"y\": [0.0, 1.379999999999999, 1.379999999999999, 0.3550000000000004], \"yaxis\": \"y\"}, {\"hoverinfo\": \"text\", \"marker\": {\"color\": \"rgb(255,65,54)\"}, \"mode\": \"lines\", \"type\": \"scatter\", \"x\": [470.0, 470.0, 492.5, 492.5], \"xaxis\": \"x\", \"y\": [0.652000000000001, 2.852999999999998, 2.852999999999998, 1.379999999999999], \"yaxis\": \"y\"}, {\"hoverinfo\": \"text\", \"marker\": {\"color\": \"rgb(255,65,54)\"}, \"mode\": \"lines\", \"type\": \"scatter\", \"x\": [455.0, 455.0, 481.25, 481.25], \"xaxis\": \"x\", \"y\": [0.0, 5.645999999999997, 5.645999999999997, 2.852999999999998], \"yaxis\": \"y\"}, {\"hoverinfo\": \"text\", \"marker\": {\"color\": \"rgb(255,65,54)\"}, \"mode\": \"lines\", \"type\": \"scatter\", \"x\": [515.0, 515.0, 525.0, 525.0], \"xaxis\": \"x\", \"y\": [0.0, 0.7270000000000003, 0.7270000000000003, 0.0], \"yaxis\": \"y\"}, {\"hoverinfo\": \"text\", \"marker\": {\"color\": \"rgb(255,65,54)\"}, \"mode\": \"lines\", \"type\": \"scatter\", \"x\": [555.0, 555.0, 565.0, 565.0], \"xaxis\": \"x\", \"y\": [0.0, 0.14300000000000068, 0.14300000000000068, 0.0], \"yaxis\": \"y\"}, {\"hoverinfo\": \"text\", \"marker\": {\"color\": \"rgb(255,65,54)\"}, \"mode\": \"lines\", \"type\": \"scatter\", \"x\": [545.0, 545.0, 560.0, 560.0], \"xaxis\": \"x\", \"y\": [0.0, 0.37700000000000244, 0.37700000000000244, 0.14300000000000068], \"yaxis\": \"y\"}, {\"hoverinfo\": \"text\", \"marker\": {\"color\": \"rgb(255,65,54)\"}, \"mode\": \"lines\", \"type\": \"scatter\", \"x\": [535.0, 535.0, 552.5, 552.5], \"xaxis\": \"x\", \"y\": [0.0, 1.596, 1.596, 0.37700000000000244], \"yaxis\": \"y\"}, {\"hoverinfo\": \"text\", \"marker\": {\"color\": \"rgb(255,65,54)\"}, \"mode\": \"lines\", \"type\": \"scatter\", \"x\": [520.0, 520.0, 543.75, 543.75], \"xaxis\": \"x\", \"y\": [0.7270000000000003, 3.6359999999999992, 3.6359999999999992, 1.596], \"yaxis\": \"y\"}, {\"hoverinfo\": \"text\", \"marker\": {\"color\": \"rgb(255,65,54)\"}, \"mode\": \"lines\", \"type\": \"scatter\", \"x\": [585.0, 585.0, 595.0, 595.0], \"xaxis\": \"x\", \"y\": [0.0, 1.4129999999999985, 1.4129999999999985, 0.0], \"yaxis\": \"y\"}, {\"hoverinfo\": \"text\", \"marker\": {\"color\": \"rgb(255,65,54)\"}, \"mode\": \"lines\", \"type\": \"scatter\", \"x\": [575.0, 575.0, 590.0, 590.0], \"xaxis\": \"x\", \"y\": [0.0, 6.028999999999998, 6.028999999999998, 1.4129999999999985], \"yaxis\": \"y\"}, {\"hoverinfo\": \"text\", \"marker\": {\"color\": \"rgb(255,65,54)\"}, \"mode\": \"lines\", \"type\": \"scatter\", \"x\": [531.875, 531.875, 582.5, 582.5], \"xaxis\": \"x\", \"y\": [3.6359999999999992, 11.223, 11.223, 6.028999999999998], \"yaxis\": \"y\"}, {\"hoverinfo\": \"text\", \"marker\": {\"color\": \"rgb(255,65,54)\"}, \"mode\": \"lines\", \"type\": \"scatter\", \"x\": [468.125, 468.125, 557.1875, 557.1875], \"xaxis\": \"x\", \"y\": [5.645999999999997, 14.724566682928227, 14.724566682928227, 11.223], \"yaxis\": \"y\"}, {\"hoverinfo\": \"text\", \"marker\": {\"color\": \"rgb(255,65,54)\"}, \"mode\": \"lines\", \"type\": \"scatter\", \"x\": [394.6875, 394.6875, 512.65625, 512.65625], \"xaxis\": \"x\", \"y\": [14.2863994414268, 21.66051236697784, 21.66051236697784, 14.724566682928227], \"yaxis\": \"y\"}, {\"hoverinfo\": \"text\", \"marker\": {\"color\": \"rgb(255,65,54)\"}, \"mode\": \"lines\", \"type\": \"scatter\", \"x\": [298.125, 298.125, 453.671875, 453.671875], \"xaxis\": \"x\", \"y\": [11.120621610323767, 33.92339982961614, 33.92339982961614, 21.66051236697784], \"yaxis\": \"y\"}, {\"hoverinfo\": \"text\", \"marker\": {\"color\": \"rgb(255,65,54)\"}, \"mode\": \"lines\", \"type\": \"scatter\", \"x\": [251.25, 251.25, 375.8984375, 375.8984375], \"xaxis\": \"x\", \"y\": [13.15040698989959, 42.15270259425842, 42.15270259425842, 33.92339982961614], \"yaxis\": \"y\"}, {\"hoverinfo\": \"text\", \"marker\": {\"color\": \"rgb(255,65,54)\"}, \"mode\": \"lines\", \"type\": \"scatter\", \"x\": [212.5, 212.5, 313.57421875, 313.57421875], \"xaxis\": \"x\", \"y\": [40.088, 88.19178093790826, 88.19178093790826, 42.15270259425842], \"yaxis\": \"y\"}, {\"hoverinfo\": \"text\", \"marker\": {\"color\": \"rgb(0,116,217)\"}, \"mode\": \"lines\", \"type\": \"scatter\", \"x\": [79.84375, 79.84375, 263.037109375, 263.037109375], \"xaxis\": \"x\", \"y\": [45.781019167336154, 166.98444767103314, 166.98444767103314, 88.19178093790826], \"yaxis\": \"y\"}],\n",
              "                        {\"autosize\": false, \"height\": 500, \"hovermode\": \"closest\", \"showlegend\": false, \"template\": {\"data\": {\"bar\": [{\"error_x\": {\"color\": \"#2a3f5f\"}, \"error_y\": {\"color\": \"#2a3f5f\"}, \"marker\": {\"line\": {\"color\": \"#E5ECF6\", \"width\": 0.5}}, \"type\": \"bar\"}], \"barpolar\": [{\"marker\": {\"line\": {\"color\": \"#E5ECF6\", \"width\": 0.5}}, \"type\": \"barpolar\"}], \"carpet\": [{\"aaxis\": {\"endlinecolor\": \"#2a3f5f\", \"gridcolor\": \"white\", \"linecolor\": \"white\", \"minorgridcolor\": \"white\", \"startlinecolor\": \"#2a3f5f\"}, \"baxis\": {\"endlinecolor\": \"#2a3f5f\", \"gridcolor\": \"white\", \"linecolor\": \"white\", \"minorgridcolor\": \"white\", \"startlinecolor\": \"#2a3f5f\"}, \"type\": \"carpet\"}], \"choropleth\": [{\"colorbar\": {\"outlinewidth\": 0, \"ticks\": \"\"}, \"type\": \"choropleth\"}], \"contour\": [{\"colorbar\": {\"outlinewidth\": 0, \"ticks\": \"\"}, \"colorscale\": [[0.0, \"#0d0887\"], [0.1111111111111111, \"#46039f\"], [0.2222222222222222, \"#7201a8\"], [0.3333333333333333, \"#9c179e\"], [0.4444444444444444, \"#bd3786\"], [0.5555555555555556, \"#d8576b\"], [0.6666666666666666, \"#ed7953\"], [0.7777777777777778, \"#fb9f3a\"], [0.8888888888888888, \"#fdca26\"], [1.0, \"#f0f921\"]], \"type\": \"contour\"}], \"contourcarpet\": [{\"colorbar\": {\"outlinewidth\": 0, \"ticks\": \"\"}, \"type\": \"contourcarpet\"}], \"heatmap\": [{\"colorbar\": {\"outlinewidth\": 0, \"ticks\": \"\"}, \"colorscale\": [[0.0, \"#0d0887\"], [0.1111111111111111, \"#46039f\"], [0.2222222222222222, \"#7201a8\"], [0.3333333333333333, \"#9c179e\"], [0.4444444444444444, \"#bd3786\"], [0.5555555555555556, \"#d8576b\"], [0.6666666666666666, \"#ed7953\"], [0.7777777777777778, \"#fb9f3a\"], [0.8888888888888888, \"#fdca26\"], [1.0, \"#f0f921\"]], \"type\": \"heatmap\"}], \"heatmapgl\": [{\"colorbar\": {\"outlinewidth\": 0, \"ticks\": \"\"}, \"colorscale\": [[0.0, \"#0d0887\"], [0.1111111111111111, \"#46039f\"], [0.2222222222222222, \"#7201a8\"], [0.3333333333333333, \"#9c179e\"], [0.4444444444444444, \"#bd3786\"], [0.5555555555555556, \"#d8576b\"], [0.6666666666666666, \"#ed7953\"], [0.7777777777777778, \"#fb9f3a\"], [0.8888888888888888, \"#fdca26\"], [1.0, \"#f0f921\"]], \"type\": \"heatmapgl\"}], \"histogram\": [{\"marker\": {\"colorbar\": {\"outlinewidth\": 0, \"ticks\": \"\"}}, \"type\": \"histogram\"}], \"histogram2d\": [{\"colorbar\": {\"outlinewidth\": 0, \"ticks\": \"\"}, \"colorscale\": [[0.0, \"#0d0887\"], [0.1111111111111111, \"#46039f\"], [0.2222222222222222, \"#7201a8\"], [0.3333333333333333, \"#9c179e\"], [0.4444444444444444, \"#bd3786\"], [0.5555555555555556, \"#d8576b\"], [0.6666666666666666, \"#ed7953\"], [0.7777777777777778, \"#fb9f3a\"], [0.8888888888888888, \"#fdca26\"], [1.0, \"#f0f921\"]], \"type\": \"histogram2d\"}], \"histogram2dcontour\": [{\"colorbar\": {\"outlinewidth\": 0, \"ticks\": \"\"}, \"colorscale\": [[0.0, \"#0d0887\"], [0.1111111111111111, \"#46039f\"], [0.2222222222222222, \"#7201a8\"], [0.3333333333333333, \"#9c179e\"], [0.4444444444444444, \"#bd3786\"], [0.5555555555555556, \"#d8576b\"], [0.6666666666666666, \"#ed7953\"], [0.7777777777777778, \"#fb9f3a\"], [0.8888888888888888, \"#fdca26\"], [1.0, \"#f0f921\"]], \"type\": \"histogram2dcontour\"}], \"mesh3d\": [{\"colorbar\": {\"outlinewidth\": 0, \"ticks\": \"\"}, \"type\": \"mesh3d\"}], \"parcoords\": [{\"line\": {\"colorbar\": {\"outlinewidth\": 0, \"ticks\": \"\"}}, \"type\": \"parcoords\"}], \"pie\": [{\"automargin\": true, \"type\": \"pie\"}], \"scatter\": [{\"marker\": {\"colorbar\": {\"outlinewidth\": 0, \"ticks\": \"\"}}, \"type\": \"scatter\"}], \"scatter3d\": [{\"line\": {\"colorbar\": {\"outlinewidth\": 0, \"ticks\": \"\"}}, \"marker\": {\"colorbar\": {\"outlinewidth\": 0, \"ticks\": \"\"}}, \"type\": \"scatter3d\"}], \"scattercarpet\": [{\"marker\": {\"colorbar\": {\"outlinewidth\": 0, \"ticks\": \"\"}}, \"type\": \"scattercarpet\"}], \"scattergeo\": [{\"marker\": {\"colorbar\": {\"outlinewidth\": 0, \"ticks\": \"\"}}, \"type\": \"scattergeo\"}], \"scattergl\": [{\"marker\": {\"colorbar\": {\"outlinewidth\": 0, \"ticks\": \"\"}}, \"type\": \"scattergl\"}], \"scattermapbox\": [{\"marker\": {\"colorbar\": {\"outlinewidth\": 0, \"ticks\": \"\"}}, \"type\": \"scattermapbox\"}], \"scatterpolar\": [{\"marker\": {\"colorbar\": {\"outlinewidth\": 0, \"ticks\": \"\"}}, \"type\": \"scatterpolar\"}], \"scatterpolargl\": [{\"marker\": {\"colorbar\": {\"outlinewidth\": 0, \"ticks\": \"\"}}, \"type\": \"scatterpolargl\"}], \"scatterternary\": [{\"marker\": {\"colorbar\": {\"outlinewidth\": 0, \"ticks\": \"\"}}, \"type\": \"scatterternary\"}], \"surface\": [{\"colorbar\": {\"outlinewidth\": 0, \"ticks\": \"\"}, \"colorscale\": [[0.0, \"#0d0887\"], [0.1111111111111111, \"#46039f\"], [0.2222222222222222, \"#7201a8\"], [0.3333333333333333, \"#9c179e\"], [0.4444444444444444, \"#bd3786\"], [0.5555555555555556, \"#d8576b\"], [0.6666666666666666, \"#ed7953\"], [0.7777777777777778, \"#fb9f3a\"], [0.8888888888888888, \"#fdca26\"], [1.0, \"#f0f921\"]], \"type\": \"surface\"}], \"table\": [{\"cells\": {\"fill\": {\"color\": \"#EBF0F8\"}, \"line\": {\"color\": \"white\"}}, \"header\": {\"fill\": {\"color\": \"#C8D4E3\"}, \"line\": {\"color\": \"white\"}}, \"type\": \"table\"}]}, \"layout\": {\"annotationdefaults\": {\"arrowcolor\": \"#2a3f5f\", \"arrowhead\": 0, \"arrowwidth\": 1}, \"coloraxis\": {\"colorbar\": {\"outlinewidth\": 0, \"ticks\": \"\"}}, \"colorscale\": {\"diverging\": [[0, \"#8e0152\"], [0.1, \"#c51b7d\"], [0.2, \"#de77ae\"], [0.3, \"#f1b6da\"], [0.4, \"#fde0ef\"], [0.5, \"#f7f7f7\"], [0.6, \"#e6f5d0\"], [0.7, \"#b8e186\"], [0.8, \"#7fbc41\"], [0.9, \"#4d9221\"], [1, \"#276419\"]], \"sequential\": [[0.0, \"#0d0887\"], [0.1111111111111111, \"#46039f\"], [0.2222222222222222, \"#7201a8\"], [0.3333333333333333, \"#9c179e\"], [0.4444444444444444, \"#bd3786\"], [0.5555555555555556, \"#d8576b\"], [0.6666666666666666, \"#ed7953\"], [0.7777777777777778, \"#fb9f3a\"], [0.8888888888888888, \"#fdca26\"], [1.0, \"#f0f921\"]], \"sequentialminus\": [[0.0, \"#0d0887\"], [0.1111111111111111, \"#46039f\"], [0.2222222222222222, \"#7201a8\"], [0.3333333333333333, \"#9c179e\"], [0.4444444444444444, \"#bd3786\"], [0.5555555555555556, \"#d8576b\"], [0.6666666666666666, \"#ed7953\"], [0.7777777777777778, \"#fb9f3a\"], [0.8888888888888888, \"#fdca26\"], [1.0, \"#f0f921\"]]}, \"colorway\": [\"#636efa\", \"#EF553B\", \"#00cc96\", \"#ab63fa\", \"#FFA15A\", \"#19d3f3\", \"#FF6692\", \"#B6E880\", \"#FF97FF\", \"#FECB52\"], \"font\": {\"color\": \"#2a3f5f\"}, \"geo\": {\"bgcolor\": \"white\", \"lakecolor\": \"white\", \"landcolor\": \"#E5ECF6\", \"showlakes\": true, \"showland\": true, \"subunitcolor\": \"white\"}, \"hoverlabel\": {\"align\": \"left\"}, \"hovermode\": \"closest\", \"mapbox\": {\"style\": \"light\"}, \"paper_bgcolor\": \"white\", \"plot_bgcolor\": \"#E5ECF6\", \"polar\": {\"angularaxis\": {\"gridcolor\": \"white\", \"linecolor\": \"white\", \"ticks\": \"\"}, \"bgcolor\": \"#E5ECF6\", \"radialaxis\": {\"gridcolor\": \"white\", \"linecolor\": \"white\", \"ticks\": \"\"}}, \"scene\": {\"xaxis\": {\"backgroundcolor\": \"#E5ECF6\", \"gridcolor\": \"white\", \"gridwidth\": 2, \"linecolor\": \"white\", \"showbackground\": true, \"ticks\": \"\", \"zerolinecolor\": \"white\"}, \"yaxis\": {\"backgroundcolor\": \"#E5ECF6\", \"gridcolor\": \"white\", \"gridwidth\": 2, \"linecolor\": \"white\", \"showbackground\": true, \"ticks\": \"\", \"zerolinecolor\": \"white\"}, \"zaxis\": {\"backgroundcolor\": \"#E5ECF6\", \"gridcolor\": \"white\", \"gridwidth\": 2, \"linecolor\": \"white\", \"showbackground\": true, \"ticks\": \"\", \"zerolinecolor\": \"white\"}}, \"shapedefaults\": {\"line\": {\"color\": \"#2a3f5f\"}}, \"ternary\": {\"aaxis\": {\"gridcolor\": \"white\", \"linecolor\": \"white\", \"ticks\": \"\"}, \"baxis\": {\"gridcolor\": \"white\", \"linecolor\": \"white\", \"ticks\": \"\"}, \"bgcolor\": \"#E5ECF6\", \"caxis\": {\"gridcolor\": \"white\", \"linecolor\": \"white\", \"ticks\": \"\"}}, \"title\": {\"x\": 0.05}, \"xaxis\": {\"automargin\": true, \"gridcolor\": \"white\", \"linecolor\": \"white\", \"ticks\": \"\", \"title\": {\"standoff\": 15}, \"zerolinecolor\": \"white\", \"zerolinewidth\": 2}, \"yaxis\": {\"automargin\": true, \"gridcolor\": \"white\", \"linecolor\": \"white\", \"ticks\": \"\", \"title\": {\"standoff\": 15}, \"zerolinecolor\": \"white\", \"zerolinewidth\": 2}}}, \"width\": 800, \"xaxis\": {\"mirror\": \"allticks\", \"rangemode\": \"tozero\", \"showgrid\": false, \"showline\": true, \"showticklabels\": true, \"tickmode\": \"array\", \"ticks\": \"outside\", \"ticktext\": [\"47\", \"46\", \"41\", \"45\", \"54\", \"48\", \"52\", \"59\", \"53\", \"57\", \"58\", \"50\", \"56\", \"40\", \"55\", \"49\", \"51\", \"43\", \"42\", \"44\", \"17\", \"35\", \"38\", \"23\", \"29\", \"31\", \"25\", \"36\", \"32\", \"15\", \"39\", \"13\", \"4\", \"19\", \"7\", \"10\", \"1\", \"14\", \"18\", \"8\", \"11\", \"33\", \"37\", \"22\", \"30\", \"20\", \"26\", \"27\", \"24\", \"21\", \"28\", \"0\", \"5\", \"2\", \"12\", \"6\", \"16\", \"9\", \"3\", \"34\"], \"tickvals\": [5.0, 15.0, 25.0, 35.0, 45.0, 55.0, 65.0, 75.0, 85.0, 95.0, 105.0, 115.0, 125.0, 135.0, 145.0, 155.0, 165.0, 175.0, 185.0, 195.0, 205.0, 215.0, 225.0, 235.0, 245.0, 255.0, 265.0, 275.0, 285.0, 295.0, 305.0, 315.0, 325.0, 335.0, 345.0, 355.0, 365.0, 375.0, 385.0, 395.0, 405.0, 415.0, 425.0, 435.0, 445.0, 455.0, 465.0, 475.0, 485.0, 495.0, 505.0, 515.0, 525.0, 535.0, 545.0, 555.0, 565.0, 575.0, 585.0, 595.0], \"type\": \"linear\", \"zeroline\": false}, \"yaxis\": {\"mirror\": \"allticks\", \"rangemode\": \"tozero\", \"showgrid\": false, \"showline\": true, \"showticklabels\": true, \"ticks\": \"outside\", \"type\": \"linear\", \"zeroline\": false}},\n",
              "                        {\"responsive\": true}\n",
              "                    ).then(function(){\n",
              "                            \n",
              "var gd = document.getElementById('b884c6d5-8c52-4082-92ab-62b2f03e61c9');\n",
              "var x = new MutationObserver(function (mutations, observer) {{\n",
              "        var display = window.getComputedStyle(gd).display;\n",
              "        if (!display || display === 'none') {{\n",
              "            console.log([gd, 'removed!']);\n",
              "            Plotly.purge(gd);\n",
              "            observer.disconnect();\n",
              "        }}\n",
              "}});\n",
              "\n",
              "// Listen for the removal of the full notebook cells\n",
              "var notebookContainer = gd.closest('#notebook-container');\n",
              "if (notebookContainer) {{\n",
              "    x.observe(notebookContainer, {childList: true});\n",
              "}}\n",
              "\n",
              "// Listen for the clearing of the current output cell\n",
              "var outputEl = gd.closest('.output');\n",
              "if (outputEl) {{\n",
              "    x.observe(outputEl, {childList: true});\n",
              "}}\n",
              "\n",
              "                        })\n",
              "                };\n",
              "                \n",
              "            </script>\n",
              "        </div>\n",
              "</body>\n",
              "</html>"
            ]
          },
          "metadata": {
            "tags": []
          }
        }
      ]
    },
    {
      "cell_type": "markdown",
      "metadata": {
        "id": "HRuSiH4qZGjO",
        "colab_type": "text"
      },
      "source": [
        "# K-means\n",
        "\n",
        "สีเขียว ใช้แทน centroid"
      ]
    },
    {
      "cell_type": "code",
      "metadata": {
        "id": "2-Osyx65MGdU",
        "colab_type": "code",
        "colab": {}
      },
      "source": [
        "from sklearn.cluster import KMeans\n",
        "kmeans = KMeans(n_clusters=2)\n",
        "kmeans.fit(X)\n",
        "y_kmeans = kmeans.predict(X)"
      ],
      "execution_count": 0,
      "outputs": []
    },
    {
      "cell_type": "code",
      "metadata": {
        "id": "sgwUumU3Otp3",
        "colab_type": "code",
        "outputId": "4375e719-c2b5-4d5c-de66-5181c9b5456c",
        "colab": {
          "base_uri": "https://localhost:8080/",
          "height": 303
        }
      },
      "source": [
        "plt.scatter(X[0], X[1], c=y_kmeans)\n",
        "#centers = kmeans.cluster_centers_\n",
        "centers = np.array(kmeans.cluster_centers_)\n",
        "plt.ylim(0, 250)\n",
        "plt.xlim(0, 250)\n",
        "print(centers)\n",
        "plt.scatter(centers[:,0], centers[:,1],marker=\"x\", c='green');\n"
      ],
      "execution_count": 25,
      "outputs": [
        {
          "output_type": "stream",
          "text": [
            "[[193.5     28.1702]\n",
            " [ 81.1125  23.2579]]\n"
          ],
          "name": "stdout"
        },
        {
          "output_type": "display_data",
          "data": {
            "image/png": "[encoded data removed]",
            "text/plain": [
              "<Figure size 432x288 with 1 Axes>"
            ]
          },
          "metadata": {
            "tags": [],
            "needs_background": "light"
          }
        }
      ]
    },
    {
      "cell_type": "code",
      "metadata": {
        "id": "2gx9Wi-SRPgw",
        "colab_type": "code",
        "colab": {}
      },
      "source": [
        ""
      ],
      "execution_count": 0,
      "outputs": []
    }
  ]
}